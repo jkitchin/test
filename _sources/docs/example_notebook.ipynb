{
 "cells": [
  {
   "cell_type": "markdown",
   "id": "02c4f956-052f-423b-b194-c5805ff573ab",
   "metadata": {},
   "source": [
    "# Example notebook using `oaris`\n",
    "\n",
    "This notebook shows how to use `oaris` as a library that is imported to get an RIS entry."
   ]
  },
  {
   "cell_type": "code",
   "execution_count": 1,
   "id": "eace191d-72f6-4f5f-ab6a-787f6b95e0de",
   "metadata": {},
   "outputs": [
    {
     "data": {
      "text/html": [
       "<pre>TY  - JOUR\n",
       "AU  - John R. Kitchin\n",
       "PY  - 2015\n",
       "TI  - Examples of Effective Data Sharing in Scientific Publishing\n",
       "JO  - ACS Catalysis\n",
       "VL  - 5\n",
       "IS  - 6\n",
       "SP  - 3894\n",
       "EP  - 3899\n",
       "DO  - https://doi.org/10.1021/acscatal.5b00538\n",
       "ER  -</pre><br><a href=\"data:text/plain;base64,VFkgIC0gSk9VUgpBVSAgLSBKb2huIFIuIEtpdGNoaW4KUFkgIC0gMjAxNQpUSSAgLSBFeGFtcGxlcyBvZiBFZmZlY3RpdmUgRGF0YSBTaGFyaW5nIGluIFNjaWVudGlmaWMgUHVibGlzaGluZwpKTyAgLSBBQ1MgQ2F0YWx5c2lzClZMICAtIDUKSVMgIC0gNgpTUCAgLSAzODk0CkVQICAtIDM4OTkKRE8gIC0gaHR0cHM6Ly9kb2kub3JnLzEwLjEwMjEvYWNzY2F0YWwuNWIwMDUzOApFUiAgLQ==\" download=\"ris\">Download RIS</a>"
      ],
      "text/plain": [
       "<IPython.core.display.HTML object>"
      ]
     },
     "execution_count": 1,
     "metadata": {},
     "output_type": "execute_result"
    }
   ],
   "source": [
    "from oaris import Works\n",
    "w = Works('https://doi.org/10.1021/acscatal.5b00538')\n",
    "w.ris()"
   ]
  }
 ],
 "metadata": {
  "kernelspec": {
   "display_name": "Python 3",
   "language": "python",
   "name": "python3"
  },
  "language_info": {
   "codemirror_mode": {
    "name": "ipython",
    "version": 3
   },
   "file_extension": ".py",
   "mimetype": "text/x-python",
   "name": "python",
   "nbconvert_exporter": "python",
   "pygments_lexer": "ipython3",
   "version": "3.9.7"
  },
  "widgets": {
   "application/vnd.jupyter.widget-state+json": {
    "state": {},
    "version_major": 2,
    "version_minor": 0
   }
  }
 },
 "nbformat": 4,
 "nbformat_minor": 5
}
